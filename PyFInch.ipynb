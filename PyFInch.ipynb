{
 "cells": [
  {
   "cell_type": "code",
   "execution_count": 94,
   "metadata": {},
   "outputs": [],
   "source": [
    "import pandas as pd\n",
    "import glob\n",
    "import os\n",
    "from skbio import DistanceMatrix\n",
    "from skbio.tree import nj\n",
    "from ete3 import Tree, faces, TreeStyle\n"
   ]
  },
  {
   "cell_type": "code",
   "execution_count": 95,
   "metadata": {},
   "outputs": [
    {
     "name": "stderr",
     "output_type": "stream",
     "text": [
      "/home/shashi/miniconda/envs/bunting/lib/python3.7/site-packages/ipykernel_launcher.py:2: FutureWarning: Method .as_matrix will be removed in a future version. Use .values instead.\n",
      "  \n"
     ]
    }
   ],
   "source": [
    "plasmo = pd.read_csv('Plasmodium.dist', header=0)\n",
    "plasmo_matrix = pd.pivot_table(plasmo, values='Distnace', index='SampleA', columns='SampleB').as_matrix()\n",
    "plasmo_samples = plasmo['SampleB'].unique().tolist()\n",
    "jaccard_matrix = DistanceMatrix(plasmo_matrix, plasmo_samples)\n",
    "newick_str = nj(jaccard_matrix, result_constructor=str)\n",
    "tree = Tree(newick_str)\n",
    "tree.show()"
   ]
  },
  {
   "cell_type": "markdown",
   "metadata": {},
   "source": [
    "### Exploratory data analysis\n",
    "\n",
    "The above section plots a NJ tree from PyFinch jaccard distances. The way Jaccard distances are calculated in Bunting are as follows:\n",
    "1. Between any two species if a k-mer is shared, the minimum number of shared k-mers is added to the intersection set. \n",
    "2. The maximum k-mer count between the two species is added to union set. \n",
    "3. A Jaccard distance is calculated for each of the pairwise comparisons. \n",
    "\n",
    "The advantage of this method is the low memory load on system. Though this system is computationally intensive, it can be massively parallelized. Thus speeding up the process. However, from the observed jaccard distances we see that the values do not correspond to the biological distance between the species. One hypothesis is that, the method is over sensitive to the differences in the size of the genome ( or k-mer diversity) . In the next section we will evaluate how we can optimize the k-mer length to normalize the k-mer diversity across the species."
   ]
  },
  {
   "cell_type": "code",
   "execution_count": 39,
   "metadata": {},
   "outputs": [],
   "source": [
    "import subprocess"
   ]
  },
  {
   "cell_type": "code",
   "execution_count": 52,
   "metadata": {},
   "outputs": [],
   "source": [
    "def kanalyze(ref_path, kmer_length):\n",
    "    ref_files = glob.glob('{0}/*.fasta'.format(ref_path))\n",
    "    out_files = list()\n",
    "    out_dir = 'ref/dkc_{0}'.format(kmer_length)\n",
    "    if not os.path.exists(out_dir):\n",
    "        os.mkdir(out_dir)\n",
    "    for files in ref_files:\n",
    "        \n",
    "        out_file = 'ref/dkc_{0}/{1}.dkc'.format(kmer_length, os.path.splitext(os.path.basename(files))[0])\n",
    "        if os.path.exists(out_file):\n",
    "            continue\n",
    "        out_files.append(out_file)\n",
    "        kcmd = ['lib/kanalyze/count', '-m', 'dec', '-k', '{0}'.format(kmer_length), '-o', out_file,\n",
    "                files]\n",
    "        krun = subprocess.Popen(kcmd, shell=False)\n",
    "        krun.wait()\n",
    "    return(out_files)"
   ]
  },
  {
   "cell_type": "code",
   "execution_count": 72,
   "metadata": {},
   "outputs": [],
   "source": [
    "ref_path = 'ref/fasta'\n",
    "for kmer_length in range(21, 202, 10):\n",
    "    kanalyze(ref_path, kmer_length)"
   ]
  },
  {
   "cell_type": "code",
   "execution_count": 73,
   "metadata": {},
   "outputs": [],
   "source": [
    "from collections import defaultdict\n",
    "import mmap"
   ]
  },
  {
   "cell_type": "code",
   "execution_count": 74,
   "metadata": {},
   "outputs": [],
   "source": [
    "def mapcount(filename):\n",
    "    f = open(filename, \"r+\")\n",
    "    buf = mmap.mmap(f.fileno(), 0)\n",
    "    lines = 0\n",
    "    readline = buf.readline\n",
    "    while readline():\n",
    "        lines += 1\n",
    "    return lines\n"
   ]
  },
  {
   "cell_type": "code",
   "execution_count": 81,
   "metadata": {},
   "outputs": [],
   "source": [
    "import numpy as np\n",
    "kmer_diversity  = list()\n",
    "dkc_folder = glob.glob('ref/dkc_*')\n",
    "for kfolder in dkc_folder:\n",
    "    ksize = kfolder.split('_')[1]\n",
    "    kfiles = glob.glob('{0}/*.dkc'.format(kfolder))\n",
    "    for files in kfiles:\n",
    "        species = files.split('_')[2]\n",
    "        count_list = list()\n",
    "        for lines in open(files):\n",
    "            count_list.append(int(lines.strip().split('\\t')[1]))\n",
    "        mean = np.mean(count_list)\n",
    "        kmer_diversity.append([species, ksize, mean])\n",
    "        #kmer_diversity[species][ksize] = count\n",
    "        "
   ]
  },
  {
   "cell_type": "code",
   "execution_count": 85,
   "metadata": {},
   "outputs": [],
   "source": [
    "import pandas as pd\n",
    "diversity_table = pd.DataFrame(kmer_diversity, columns=['Species', 'Ksize', 'MeanCount'])"
   ]
  },
  {
   "cell_type": "code",
   "execution_count": 88,
   "metadata": {
    "scrolled": true
   },
   "outputs": [
    {
     "data": {
      "text/html": [
       "<div>\n",
       "<style scoped>\n",
       "    .dataframe tbody tr th:only-of-type {\n",
       "        vertical-align: middle;\n",
       "    }\n",
       "\n",
       "    .dataframe tbody tr th {\n",
       "        vertical-align: top;\n",
       "    }\n",
       "\n",
       "    .dataframe thead th {\n",
       "        text-align: right;\n",
       "    }\n",
       "</style>\n",
       "<table border=\"1\" class=\"dataframe\">\n",
       "  <thead>\n",
       "    <tr style=\"text-align: right;\">\n",
       "      <th></th>\n",
       "      <th>Species</th>\n",
       "      <th>Ksize</th>\n",
       "      <th>MeanCount</th>\n",
       "    </tr>\n",
       "  </thead>\n",
       "  <tbody>\n",
       "    <tr>\n",
       "      <th>142</th>\n",
       "      <td>Pgallinaceum8A</td>\n",
       "      <td>21</td>\n",
       "      <td>1.109406</td>\n",
       "    </tr>\n",
       "    <tr>\n",
       "      <th>132</th>\n",
       "      <td>PovalecurtisiGH01</td>\n",
       "      <td>21</td>\n",
       "      <td>1.047212</td>\n",
       "    </tr>\n",
       "    <tr>\n",
       "      <th>138</th>\n",
       "      <td>Pchabaudichabaudi</td>\n",
       "      <td>21</td>\n",
       "      <td>1.031228</td>\n",
       "    </tr>\n",
       "    <tr>\n",
       "      <th>133</th>\n",
       "      <td>PknowlesiH</td>\n",
       "      <td>21</td>\n",
       "      <td>1.094459</td>\n",
       "    </tr>\n",
       "    <tr>\n",
       "      <th>140</th>\n",
       "      <td>Povalewalkeri</td>\n",
       "      <td>21</td>\n",
       "      <td>1.070338</td>\n",
       "    </tr>\n",
       "  </tbody>\n",
       "</table>\n",
       "</div>"
      ],
      "text/plain": [
       "               Species  Ksize  MeanCount\n",
       "142     Pgallinaceum8A     21   1.109406\n",
       "132  PovalecurtisiGH01     21   1.047212\n",
       "138  Pchabaudichabaudi     21   1.031228\n",
       "133         PknowlesiH     21   1.094459\n",
       "140      Povalewalkeri     21   1.070338"
      ]
     },
     "execution_count": 88,
     "metadata": {},
     "output_type": "execute_result"
    }
   ],
   "source": [
    "diversity_table['Ksize'] = pd.to_numeric(diversity_table['Ksize'])\n",
    "diversity_table.sort_values(by=['Ksize'], inplace=True)\n",
    "diversity_table.head()"
   ]
  },
  {
   "cell_type": "code",
   "execution_count": 91,
   "metadata": {},
   "outputs": [
    {
     "data": {
      "text/plain": [
       "<matplotlib.legend.Legend at 0x7f000f385978>"
      ]
     },
     "execution_count": 91,
     "metadata": {},
     "output_type": "execute_result"
    },
    {
     "data": {
      "image/png": "[encoded data removed]",
      "text/plain": [
       "<Figure size 432x288 with 1 Axes>"
      ]
     },
     "metadata": {
      "needs_background": "light"
     },
     "output_type": "display_data"
    }
   ],
   "source": [
    "import matplotlib.pyplot as plt\n",
    "import seaborn as sns\n",
    "%matplotlib inline  \n",
    "\n",
    "sns.lineplot(data=diversity_table, x='Ksize', y='MeanCount', hue='Species')\n",
    "plt.legend(bbox_to_anchor=(1.05, 1), loc=2, borderaxespad=0.)\n"
   ]
  },
  {
   "cell_type": "code",
   "execution_count": 79,
   "metadata": {},
   "outputs": [],
   "source": [
    "gammas = sns.load_dataset(\"gammas\")"
   ]
  },
  {
   "cell_type": "code",
   "execution_count": 80,
   "metadata": {},
   "outputs": [
    {
     "data": {
      "text/html": [
       "<div>\n",
       "<style scoped>\n",
       "    .dataframe tbody tr th:only-of-type {\n",
       "        vertical-align: middle;\n",
       "    }\n",
       "\n",
       "    .dataframe tbody tr th {\n",
       "        vertical-align: top;\n",
       "    }\n",
       "\n",
       "    .dataframe thead th {\n",
       "        text-align: right;\n",
       "    }\n",
       "</style>\n",
       "<table border=\"1\" class=\"dataframe\">\n",
       "  <thead>\n",
       "    <tr style=\"text-align: right;\">\n",
       "      <th></th>\n",
       "      <th>timepoint</th>\n",
       "      <th>ROI</th>\n",
       "      <th>subject</th>\n",
       "      <th>BOLD signal</th>\n",
       "    </tr>\n",
       "  </thead>\n",
       "  <tbody>\n",
       "    <tr>\n",
       "      <th>0</th>\n",
       "      <td>0.0</td>\n",
       "      <td>IPS</td>\n",
       "      <td>0</td>\n",
       "      <td>0.513433</td>\n",
       "    </tr>\n",
       "    <tr>\n",
       "      <th>1</th>\n",
       "      <td>0.0</td>\n",
       "      <td>IPS</td>\n",
       "      <td>1</td>\n",
       "      <td>-0.414368</td>\n",
       "    </tr>\n",
       "    <tr>\n",
       "      <th>2</th>\n",
       "      <td>0.0</td>\n",
       "      <td>IPS</td>\n",
       "      <td>2</td>\n",
       "      <td>0.214695</td>\n",
       "    </tr>\n",
       "    <tr>\n",
       "      <th>3</th>\n",
       "      <td>0.0</td>\n",
       "      <td>IPS</td>\n",
       "      <td>3</td>\n",
       "      <td>0.814809</td>\n",
       "    </tr>\n",
       "    <tr>\n",
       "      <th>4</th>\n",
       "      <td>0.0</td>\n",
       "      <td>IPS</td>\n",
       "      <td>4</td>\n",
       "      <td>-0.894992</td>\n",
       "    </tr>\n",
       "  </tbody>\n",
       "</table>\n",
       "</div>"
      ],
      "text/plain": [
       "   timepoint  ROI  subject  BOLD signal\n",
       "0        0.0  IPS        0     0.513433\n",
       "1        0.0  IPS        1    -0.414368\n",
       "2        0.0  IPS        2     0.214695\n",
       "3        0.0  IPS        3     0.814809\n",
       "4        0.0  IPS        4    -0.894992"
      ]
     },
     "execution_count": 80,
     "metadata": {},
     "output_type": "execute_result"
    }
   ],
   "source": [
    "gammas.head()"
   ]
  },
  {
   "cell_type": "code",
   "execution_count": null,
   "metadata": {},
   "outputs": [],
   "source": []
  }
 ],
 "metadata": {
  "kernelspec": {
   "display_name": "Python 3",
   "language": "python",
   "name": "python3"
  },
  "language_info": {
   "codemirror_mode": {
    "name": "ipython",
    "version": 3
   },
   "file_extension": ".py",
   "mimetype": "text/x-python",
   "name": "python",
   "nbconvert_exporter": "python",
   "pygments_lexer": "ipython3",
   "version": "3.7.1"
  }
 },
 "nbformat": 4,
 "nbformat_minor": 2
}
